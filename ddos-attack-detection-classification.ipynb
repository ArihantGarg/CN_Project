{
 "cells": [
  {
   "cell_type": "code",
   "execution_count": null,
   "metadata": {
    "ExecuteTime": {
     "end_time": "2024-04-19T03:30:04.402863Z",
     "start_time": "2024-04-19T03:29:59.736887Z"
    },
    "execution": {
     "iopub.execute_input": "2024-04-18T15:37:08.103173Z",
     "iopub.status.busy": "2024-04-18T15:37:08.102790Z",
     "iopub.status.idle": "2024-04-18T15:37:09.404131Z",
     "shell.execute_reply": "2024-04-18T15:37:09.403300Z",
     "shell.execute_reply.started": "2024-04-18T15:37:08.103077Z"
    }
   },
   "outputs": [],
   "source": [
    "import pandas as pd\n",
    "import numpy as np\n",
    "\n",
    "import matplotlib.pyplot as plt\n",
    "from matplotlib.pyplot import figure\n",
    "import seaborn as sns\n",
    "\n",
    "from sklearn.metrics import confusion_matrix\n",
    "from sklearn.metrics import accuracy_score\n",
    "from sklearn.metrics import classification_report\n",
    "from sklearn.model_selection import train_test_split\n",
    "from sklearn import metrics\n",
    "from sklearn.model_selection import cross_val_score\n",
    "from sklearn import preprocessing\n",
    "\n",
    "from sklearn.model_selection import cross_val_predict\n",
    "from sklearn.model_selection import GridSearchCV\n",
    "import time\n",
    "\n",
    "from sklearn.tree import DecisionTreeClassifier\n",
    "from sklearn.linear_model import LogisticRegression\n",
    "from sklearn import svm\n",
    "from sklearn.neighbors import KNeighborsClassifier\n",
    "from sklearn.ensemble import RandomForestClassifier\n",
    "\n",
    "from sklearn import metrics"
   ]
  },
  {
   "cell_type": "code",
   "execution_count": null,
   "metadata": {
    "ExecuteTime": {
     "end_time": "2024-04-19T03:31:58.401428Z",
     "start_time": "2024-04-19T03:31:57.976806Z"
    },
    "execution": {
     "iopub.execute_input": "2024-04-18T15:37:09.405903Z",
     "iopub.status.busy": "2024-04-18T15:37:09.405671Z",
     "iopub.status.idle": "2024-04-18T15:37:09.780346Z",
     "shell.execute_reply": "2024-04-18T15:37:09.779567Z",
     "shell.execute_reply.started": "2024-04-18T15:37:09.405874Z"
    }
   },
   "outputs": [],
   "source": [
    "data = pd.read_csv('dataset_sdn.csv')"
   ]
  },
  {
   "cell_type": "markdown",
   "metadata": {},
   "source": [
    "#### I .Data Analysis"
   ]
  },
  {
   "cell_type": "code",
   "execution_count": null,
   "metadata": {
    "ExecuteTime": {
     "end_time": "2024-04-19T03:32:04.848234Z",
     "start_time": "2024-04-19T03:32:04.785441Z"
    },
    "execution": {
     "iopub.execute_input": "2024-04-18T15:37:09.781742Z",
     "iopub.status.busy": "2024-04-18T15:37:09.781490Z",
     "iopub.status.idle": "2024-04-18T15:37:09.816295Z",
     "shell.execute_reply": "2024-04-18T15:37:09.815537Z",
     "shell.execute_reply.started": "2024-04-18T15:37:09.781711Z"
    }
   },
   "outputs": [],
   "source": [
    "data.head()"
   ]
  },
  {
   "cell_type": "code",
   "execution_count": null,
   "metadata": {
    "ExecuteTime": {
     "end_time": "2024-04-19T03:32:09.859633Z",
     "start_time": "2024-04-19T03:32:09.835087Z"
    },
    "execution": {
     "iopub.execute_input": "2024-04-18T15:37:09.818394Z",
     "iopub.status.busy": "2024-04-18T15:37:09.818143Z",
     "iopub.status.idle": "2024-04-18T15:37:09.823944Z",
     "shell.execute_reply": "2024-04-18T15:37:09.823123Z",
     "shell.execute_reply.started": "2024-04-18T15:37:09.818362Z"
    }
   },
   "outputs": [],
   "source": [
    "data.shape"
   ]
  },
  {
   "cell_type": "code",
   "execution_count": null,
   "metadata": {
    "execution": {
     "iopub.execute_input": "2024-04-18T15:37:09.825380Z",
     "iopub.status.busy": "2024-04-18T15:37:09.825145Z",
     "iopub.status.idle": "2024-04-18T15:37:09.882809Z",
     "shell.execute_reply": "2024-04-18T15:37:09.882061Z",
     "shell.execute_reply.started": "2024-04-18T15:37:09.825345Z"
    }
   },
   "outputs": [],
   "source": [
    "data.info()"
   ]
  },
  {
   "cell_type": "code",
   "execution_count": null,
   "metadata": {
    "execution": {
     "iopub.execute_input": "2024-04-18T15:37:09.884086Z",
     "iopub.status.busy": "2024-04-18T15:37:09.883873Z",
     "iopub.status.idle": "2024-04-18T15:37:09.890404Z",
     "shell.execute_reply": "2024-04-18T15:37:09.889569Z",
     "shell.execute_reply.started": "2024-04-18T15:37:09.884060Z"
    }
   },
   "outputs": [],
   "source": [
    "##### Here we see that the label contains boolean values: 0 - Benign, 1-Maliciuous \n",
    "data.label.unique()"
   ]
  },
  {
   "cell_type": "code",
   "execution_count": null,
   "metadata": {
    "execution": {
     "iopub.execute_input": "2024-04-18T15:37:09.891564Z",
     "iopub.status.busy": "2024-04-18T15:37:09.891348Z",
     "iopub.status.idle": "2024-04-18T15:37:09.900888Z",
     "shell.execute_reply": "2024-04-18T15:37:09.900183Z",
     "shell.execute_reply.started": "2024-04-18T15:37:09.891538Z"
    }
   },
   "outputs": [],
   "source": [
    "data.label.value_counts()"
   ]
  },
  {
   "cell_type": "code",
   "execution_count": null,
   "metadata": {
    "execution": {
     "iopub.execute_input": "2024-04-18T15:37:09.902059Z",
     "iopub.status.busy": "2024-04-18T15:37:09.901810Z",
     "iopub.status.idle": "2024-04-18T15:37:10.140717Z",
     "shell.execute_reply": "2024-04-18T15:37:10.140055Z",
     "shell.execute_reply.started": "2024-04-18T15:37:09.902032Z"
    }
   },
   "outputs": [],
   "source": [
    "label_dict = dict(data.label.value_counts())\n",
    "sns.countplot(data.label)"
   ]
  },
  {
   "cell_type": "code",
   "execution_count": null,
   "metadata": {
    "execution": {
     "iopub.execute_input": "2024-04-18T15:37:10.142453Z",
     "iopub.status.busy": "2024-04-18T15:37:10.142174Z",
     "iopub.status.idle": "2024-04-18T15:37:10.389483Z",
     "shell.execute_reply": "2024-04-18T15:37:10.388682Z",
     "shell.execute_reply.started": "2024-04-18T15:37:10.142414Z"
    }
   },
   "outputs": [],
   "source": [
    "labels = [\"Maliciuous\",'Benign']\n",
    "sizes = [dict(data.label.value_counts())[0], dict(data.label.value_counts())[1]]\n",
    "plt.figure(figsize = (13,8))\n",
    "plt.pie(sizes, labels=labels, autopct='%1.1f%%',\n",
    "        shadow=True, startangle=90)\n",
    "plt.legend([\"Maliciuous\", \"Benign\"])\n",
    "plt.title('The percentage of Benign and Maliciuos Requests in dataset')\n",
    "plt.show()"
   ]
  },
  {
   "cell_type": "code",
   "execution_count": null,
   "metadata": {
    "execution": {
     "iopub.execute_input": "2024-04-18T15:37:10.392454Z",
     "iopub.status.busy": "2024-04-18T15:37:10.392171Z",
     "iopub.status.idle": "2024-04-18T15:37:10.507139Z",
     "shell.execute_reply": "2024-04-18T15:37:10.506272Z",
     "shell.execute_reply.started": "2024-04-18T15:37:10.392422Z"
    }
   },
   "outputs": [],
   "source": [
    "data.describe()"
   ]
  },
  {
   "cell_type": "code",
   "execution_count": null,
   "metadata": {
    "execution": {
     "iopub.execute_input": "2024-04-18T15:37:10.509169Z",
     "iopub.status.busy": "2024-04-18T15:37:10.508540Z",
     "iopub.status.idle": "2024-04-18T15:37:10.971664Z",
     "shell.execute_reply": "2024-04-18T15:37:10.970891Z",
     "shell.execute_reply.started": "2024-04-18T15:37:10.509120Z"
    }
   },
   "outputs": [],
   "source": [
    "# Let's look at the vizualisation of Null valued features\n",
    "figure(figsize=(9, 5), dpi=80)\n",
    "data[data.columns[data.isna().sum() >= 0]].isna().sum().sort_values().plot.bar()\n",
    "plt.title(\"Features which has NuLL values\")"
   ]
  },
  {
   "cell_type": "code",
   "execution_count": null,
   "metadata": {
    "execution": {
     "iopub.execute_input": "2024-04-18T15:37:10.973391Z",
     "iopub.status.busy": "2024-04-18T15:37:10.973082Z",
     "iopub.status.idle": "2024-04-18T15:37:11.017402Z",
     "shell.execute_reply": "2024-04-18T15:37:11.016707Z",
     "shell.execute_reply.started": "2024-04-18T15:37:10.973351Z"
    }
   },
   "outputs": [],
   "source": [
    "data.isnull().sum()"
   ]
  },
  {
   "cell_type": "code",
   "execution_count": null,
   "metadata": {
    "execution": {
     "iopub.execute_input": "2024-04-18T15:37:11.018832Z",
     "iopub.status.busy": "2024-04-18T15:37:11.018531Z",
     "iopub.status.idle": "2024-04-18T15:37:11.037244Z",
     "shell.execute_reply": "2024-04-18T15:37:11.036313Z",
     "shell.execute_reply.started": "2024-04-18T15:37:11.018790Z"
    }
   },
   "outputs": [],
   "source": [
    "#### Let's support which columns NUMERIC and which is OBJECT\n",
    "\n",
    "numeric_df = data.select_dtypes(include=['int64', 'float64'])\n",
    "object_df = data.select_dtypes(include=['object'])\n",
    "numeric_cols = numeric_df.columns\n",
    "object_cols = object_df.columns\n",
    "print('Numeric Columns: ')\n",
    "print(numeric_cols, '\\n')\n",
    "print('Object Columns: ')\n",
    "print(object_cols, '\\n')\n",
    "print('Number of Numeric Features: ', len(numeric_cols))\n",
    "print('Number of Object Features: ', len(object_cols))"
   ]
  },
  {
   "cell_type": "code",
   "execution_count": null,
   "metadata": {
    "execution": {
     "iopub.execute_input": "2024-04-18T15:37:11.038818Z",
     "iopub.status.busy": "2024-04-18T15:37:11.038530Z",
     "iopub.status.idle": "2024-04-18T15:37:11.056064Z",
     "shell.execute_reply": "2024-04-18T15:37:11.055283Z",
     "shell.execute_reply.started": "2024-04-18T15:37:11.038777Z"
    }
   },
   "outputs": [],
   "source": [
    "object_df.head()"
   ]
  },
  {
   "cell_type": "code",
   "execution_count": null,
   "metadata": {
    "execution": {
     "iopub.execute_input": "2024-04-18T15:37:11.057733Z",
     "iopub.status.busy": "2024-04-18T15:37:11.057186Z",
     "iopub.status.idle": "2024-04-18T15:37:11.521236Z",
     "shell.execute_reply": "2024-04-18T15:37:11.520471Z",
     "shell.execute_reply.started": "2024-04-18T15:37:11.057690Z"
    }
   },
   "outputs": [],
   "source": [
    "#### Let's look at Oblect columns (Source Destination Protocol)\n",
    "\n",
    "figure(figsize=(12, 7), dpi=80)\n",
    "plt.barh(list(dict(data.src.value_counts()).keys()), dict(data.src.value_counts()).values(), color='lawngreen')\n",
    "\n",
    "for idx, val in enumerate(dict(data.src.value_counts()).values()):\n",
    "    plt.text(x = val, y = idx-0.2, s = str(val), color='r', size = 13)\n",
    "\n",
    "plt.xlabel('Number of Requests')\n",
    "plt.ylabel('IP addres of sender')\n",
    "plt.title('Number of all reqests')"
   ]
  },
  {
   "cell_type": "code",
   "execution_count": null,
   "metadata": {
    "execution": {
     "iopub.execute_input": "2024-04-18T15:37:11.522657Z",
     "iopub.status.busy": "2024-04-18T15:37:11.522447Z",
     "iopub.status.idle": "2024-04-18T15:37:11.979571Z",
     "shell.execute_reply": "2024-04-18T15:37:11.978867Z",
     "shell.execute_reply.started": "2024-04-18T15:37:11.522631Z"
    }
   },
   "outputs": [],
   "source": [
    "figure(figsize=(12, 7), dpi=80)\n",
    "plt.barh(list(dict(data[data.label == 1].src.value_counts()).keys()), dict(data[data.label == 1].src.value_counts()).values(), color='blue')\n",
    "\n",
    "for idx, val in enumerate(dict(data[data.label == 1].src.value_counts()).values()):\n",
    "    plt.text(x = val, y = idx-0.2, s = str(val), color='r', size = 13)\n",
    "\n",
    "plt.xlabel('Number of Requests')\n",
    "plt.ylabel('IP addres of sender')\n",
    "plt.title('Number of Attack requests')"
   ]
  },
  {
   "cell_type": "code",
   "execution_count": null,
   "metadata": {
    "execution": {
     "iopub.execute_input": "2024-04-18T15:37:11.981210Z",
     "iopub.status.busy": "2024-04-18T15:37:11.980902Z",
     "iopub.status.idle": "2024-04-18T15:37:12.845523Z",
     "shell.execute_reply": "2024-04-18T15:37:12.844767Z",
     "shell.execute_reply.started": "2024-04-18T15:37:11.981172Z"
    }
   },
   "outputs": [],
   "source": [
    "figure(figsize=(12, 7), dpi=80)\n",
    "plt.barh(list(dict(data.src.value_counts()).keys()), dict(data.src.value_counts()).values(), color='lawngreen')\n",
    "plt.barh(list(dict(data[data.label == 1].src.value_counts()).keys()), dict(data[data.label == 1].src.value_counts()).values(), color='blue')\n",
    "\n",
    "for idx, val in enumerate(dict(data.src.value_counts()).values()):\n",
    "    plt.text(x = val, y = idx-0.2, s = str(val), color='r', size = 13)\n",
    "\n",
    "for idx, val in enumerate(dict(data[data.label == 1].src.value_counts()).values()):\n",
    "    plt.text(x = val, y = idx-0.2, s = str(val), color='w', size = 13)\n",
    "\n",
    "\n",
    "plt.xlabel('Number of Requests')\n",
    "plt.ylabel('IP addres of sender')\n",
    "plt.legend(['All','malicious'])\n",
    "plt.title('Number of requests from different IP adress')"
   ]
  },
  {
   "cell_type": "code",
   "execution_count": null,
   "metadata": {
    "execution": {
     "iopub.execute_input": "2024-04-18T15:37:12.846801Z",
     "iopub.status.busy": "2024-04-18T15:37:12.846605Z",
     "iopub.status.idle": "2024-04-18T15:37:13.202437Z",
     "shell.execute_reply": "2024-04-18T15:37:13.201704Z",
     "shell.execute_reply.started": "2024-04-18T15:37:12.846775Z"
    }
   },
   "outputs": [],
   "source": [
    "figure(figsize=(10, 6), dpi=80)\n",
    "plt.bar(list(dict(data.Protocol.value_counts()).keys()), dict(data.Protocol.value_counts()).values(), color='r')\n",
    "plt.bar(list(dict(data[data.label == 1].Protocol.value_counts()).keys()), dict(data[data.label == 1].Protocol.value_counts()).values(), color='b')\n",
    "\n",
    "plt.text(x = 0 - 0.15, y = 41321 + 200, s = str(41321), color='black', size=17)\n",
    "plt.text(x = 1 - 0.15, y = 33588 + 200, s = str(33588), color='black', size=17)\n",
    "plt.text(x = 2 - 0.15, y = 29436 + 200, s = str(29436), color='black', size=17)\n",
    "\n",
    "plt.text(x = 0 - 0.15, y = 9419 + 200, s = str(9419), color='w', size=17)\n",
    "plt.text(x = 1 - 0.15, y = 17499 + 200, s = str(17499), color='w', size=17)\n",
    "plt.text(x = 2 - 0.15, y = 13866 + 200, s = str(13866), color='w', size=17)\n",
    "\n",
    "plt.xlabel('Protocol')\n",
    "plt.ylabel('Count')\n",
    "plt.legend(['All', 'malicious'])\n",
    "plt.title('The number of requests from different protocols')"
   ]
  },
  {
   "cell_type": "code",
   "execution_count": null,
   "metadata": {
    "execution": {
     "iopub.execute_input": "2024-04-18T15:37:13.203607Z",
     "iopub.status.busy": "2024-04-18T15:37:13.203420Z",
     "iopub.status.idle": "2024-04-18T15:37:13.217001Z",
     "shell.execute_reply": "2024-04-18T15:37:13.216298Z",
     "shell.execute_reply.started": "2024-04-18T15:37:13.203583Z"
    }
   },
   "outputs": [],
   "source": [
    "df = data.copy()"
   ]
  },
  {
   "cell_type": "code",
   "execution_count": null,
   "metadata": {
    "execution": {
     "iopub.execute_input": "2024-04-18T15:37:13.218315Z",
     "iopub.status.busy": "2024-04-18T15:37:13.218100Z",
     "iopub.status.idle": "2024-04-18T15:37:13.492405Z",
     "shell.execute_reply": "2024-04-18T15:37:13.491590Z",
     "shell.execute_reply.started": "2024-04-18T15:37:13.218288Z"
    }
   },
   "outputs": [],
   "source": [
    "figure(figsize=(8, 4), dpi=80)\n",
    "plt.hist(df.dur, bins=20, color='b')\n",
    "plt.title('Duration')\n",
    "plt.show()"
   ]
  },
  {
   "cell_type": "code",
   "execution_count": null,
   "metadata": {
    "execution": {
     "iopub.execute_input": "2024-04-18T15:37:13.493852Z",
     "iopub.status.busy": "2024-04-18T15:37:13.493595Z",
     "iopub.status.idle": "2024-04-18T15:37:13.755749Z",
     "shell.execute_reply": "2024-04-18T15:37:13.755036Z",
     "shell.execute_reply.started": "2024-04-18T15:37:13.493810Z"
    }
   },
   "outputs": [],
   "source": [
    "figure(figsize=(8, 4), dpi=80)\n",
    "plt.hist(df.tx_bytes, bins=20, color='r')\n",
    "plt.title('TX_BYTES - Transmitted Bytes')\n",
    "plt.show()"
   ]
  },
  {
   "cell_type": "code",
   "execution_count": null,
   "metadata": {
    "execution": {
     "iopub.execute_input": "2024-04-18T15:37:13.757188Z",
     "iopub.status.busy": "2024-04-18T15:37:13.756905Z",
     "iopub.status.idle": "2024-04-18T15:37:13.923297Z",
     "shell.execute_reply": "2024-04-18T15:37:13.922346Z",
     "shell.execute_reply.started": "2024-04-18T15:37:13.757150Z"
    }
   },
   "outputs": [],
   "source": [
    "figure(figsize=(8, 4), dpi=80)\n",
    "plt.hist(df.tx_kbps, bins=10, color='g')\n",
    "plt.title('TX_KBPC')\n",
    "plt.show()"
   ]
  },
  {
   "cell_type": "code",
   "execution_count": null,
   "metadata": {
    "execution": {
     "iopub.execute_input": "2024-04-18T15:37:13.925715Z",
     "iopub.status.busy": "2024-04-18T15:37:13.925336Z",
     "iopub.status.idle": "2024-04-18T15:37:14.162118Z",
     "shell.execute_reply": "2024-04-18T15:37:14.161342Z",
     "shell.execute_reply.started": "2024-04-18T15:37:13.925664Z"
    }
   },
   "outputs": [],
   "source": [
    "plt.hist(df.switch, bins=20, color='r')\n",
    "plt.title('SWITCH')\n",
    "plt.xlabel('SWITCH')\n",
    "plt.show()"
   ]
  },
  {
   "cell_type": "code",
   "execution_count": null,
   "metadata": {
    "execution": {
     "iopub.execute_input": "2024-04-18T15:37:14.163377Z",
     "iopub.status.busy": "2024-04-18T15:37:14.163171Z",
     "iopub.status.idle": "2024-04-18T15:37:14.333923Z",
     "shell.execute_reply": "2024-04-18T15:37:14.332902Z",
     "shell.execute_reply.started": "2024-04-18T15:37:14.163352Z"
    }
   },
   "outputs": [],
   "source": [
    "plt.hist(df[df['label'] == 1].switch, bins=20, color='r')\n",
    "plt.title('SWITCH')\n",
    "plt.xlabel('SWITCH')\n",
    "plt.show()"
   ]
  },
  {
   "cell_type": "code",
   "execution_count": null,
   "metadata": {},
   "outputs": [],
   "source": []
  },
  {
   "cell_type": "markdown",
   "metadata": {},
   "source": [
    "#### II. Classical ML models"
   ]
  },
  {
   "cell_type": "code",
   "execution_count": null,
   "metadata": {
    "execution": {
     "iopub.execute_input": "2024-04-18T15:37:14.336634Z",
     "iopub.status.busy": "2024-04-18T15:37:14.336041Z",
     "iopub.status.idle": "2024-04-18T15:37:14.394796Z",
     "shell.execute_reply": "2024-04-18T15:37:14.393943Z",
     "shell.execute_reply.started": "2024-04-18T15:37:14.336563Z"
    }
   },
   "outputs": [],
   "source": [
    "\n",
    "class Model:\n",
    "    global y\n",
    "    def __init__(self, data):\n",
    "        self.data = data\n",
    "        X = preprocessing.StandardScaler().fit(self.data).transform(self.data)\n",
    "        self.X_train, self.X_test, self.y_train, self.y_test = train_test_split(X, y, random_state=42, test_size=0.3)  \n",
    "    \n",
    "    def LogisticRegression(self):\n",
    "        solvers = ['newton-cg', 'lbfgs', 'liblinear', 'sag', 'saga']\n",
    "\n",
    "        start_time = time.time()\n",
    "        results_lr = []\n",
    "        accuracy_list = []\n",
    "        for solver in solvers:\n",
    "            LR = LogisticRegression(C=0.03, solver=solver).fit(self.X_train, self.y_train)\n",
    "            predicted_lr = LR.predict(self.X_test)\n",
    "            accuracy_lr = accuracy_score(self.y_test, predicted_lr)\n",
    "            #print(\"Accuracy: %.2f%%\" % (accuracy_lr * 100.0))\n",
    "            #print('################################################################')\n",
    "            results_lr.append({'solver' : solver, 'accuracy': str(round(accuracy_lr * 100, 2)) + \"%\", \n",
    "                                  'Coefficients': {'W' : LR.coef_, 'b': LR.intercept_}})\n",
    "            \n",
    "            accuracy_list.append(accuracy_lr)\n",
    "       \n",
    "        solver_name = solvers[accuracy_list.index(max(accuracy_list))]\n",
    "        LR = LogisticRegression(C=0.03, solver=solver_name).fit(self.X_train,self.y_train)\n",
    "        predicted_lr = LR.predict(self.X_test)\n",
    "        accuracy_lr = accuracy_score(self.y_test, predicted_lr)\n",
    "        print(\"Accuracy: %.2f%%\" % (accuracy_lr * 100.0), '\\n')\n",
    "        print(\"########################################################################\")\n",
    "        print('Best solver is : ', solver_name)\n",
    "        print(\"########################################################################\")\n",
    "        print(classification_report(predicted_lr, self.y_test), '\\n')\n",
    "        print(\"########################################################################\")\n",
    "        print(\"--- %s seconds --- time for LogisticRegression\" % (time.time() - start_time))\n",
    "        \n",
    "        \n",
    "    def SupportVectorMachine(self):\n",
    "        start_time = time.time()\n",
    "        accuracy_list = []\n",
    "        result_svm = []\n",
    "        kernels = ['linear', 'poly','rbf', 'sigmoid']\n",
    "        #kernels = ['rbf']\n",
    "        for kernel in kernels:\n",
    "            SVM = svm.SVC(kernel=kernel).fit(self.X_train, self.y_train)\n",
    "            predicted_svm = SVM.predict(self.X_test)\n",
    "            accuracy_svm = accuracy_score(self.y_test, predicted_svm)\n",
    "            result_svm.append({\"kernel\" : kernel, \"accuracy\": f\"{round(accuracy_svm*100,2)}%\"})\n",
    "            print(\"Accuracy: %.2f%%\" % round((accuracy_svm * 100.0),2))\n",
    "            print('######################################################################')\n",
    "            accuracy_list.append(accuracy_svm)\n",
    "        \n",
    "        kernel_name = kernels[accuracy_list.index(max(accuracy_list))]\n",
    "        SVM = svm.SVC(kernel=kernel_name).fit(self.X_train, self.y_train)\n",
    "        predicted_svm = SVM.predict(self.X_test)\n",
    "        accuracy_svm = accuracy_score(self.y_test, predicted_svm)\n",
    "        print(f\"Accuracy of SVM model {round(accuracy_svm,2)*100}%\", '\\n')\n",
    "        print(\"########################################################################\")\n",
    "        print('best kernel is : ', kernel_name)\n",
    "        print(\"########################################################################\")\n",
    "        print(classification_report(predicted_svm, self.y_test))\n",
    "        print(\"########################################################################\")\n",
    "        print(\"--- %s seconds ---\" % (time.time() - start_time))\n",
    "        \n",
    "    def KNearetsNeighbor(self):\n",
    "        start_time = time.time()\n",
    "        Ks = 12\n",
    "        accuracy_knn = np.zeros((Ks-1))\n",
    "        std_acc = np.zeros((Ks-1))\n",
    "        #print(accuracy_knn)\n",
    "        for n in range(1,Ks):\n",
    "\n",
    "            #Train Model and Predict  \n",
    "            neigh = KNeighborsClassifier(n_neighbors = n).fit(self.X_train,self.y_train)\n",
    "            yhat=neigh.predict(self.X_test)\n",
    "            accuracy_knn[n-1] = metrics.accuracy_score(self.y_test, yhat)\n",
    "\n",
    "\n",
    "            std_acc[n-1]=np.std(yhat==self.y_test)/np.sqrt(yhat.shape[0])\n",
    "\n",
    "        #print(accuracy_knn,'\\n\\n') # courseranyn ozinde tek osy gana jazylyp turdy\n",
    "        #print(std_acc)\n",
    "        #accuracy_knn[0] = 0\n",
    "        plt.figure(figsize=(10,6))\n",
    "        plt.plot(range(1,Ks),accuracy_knn,'g')\n",
    "        plt.fill_between(range(1,Ks),accuracy_knn - 1 * std_acc,accuracy_knn + 1 * std_acc, alpha=0.10)\n",
    "        plt.fill_between(range(1,Ks),accuracy_knn - 3 * std_acc,accuracy_knn + 3 * std_acc, alpha=0.10,color=\"green\")\n",
    "        plt.legend(('Accuracy ', '+/- 1xstd','+/- 3xstd'))\n",
    "        plt.ylabel('Accuracy ')\n",
    "        plt.xlabel('Number of Neighbors (K)')\n",
    "        plt.tight_layout()\n",
    "        plt.show()\n",
    "        \n",
    "        \n",
    "        knnc = KNeighborsClassifier()\n",
    "        knnc_search = GridSearchCV(knnc, param_grid={'n_neighbors': [3, 5, 10],\n",
    "                                             'weights': ['uniform', 'distance'],\n",
    "                                             'metric': ['euclidean', 'manhattan']},\n",
    "                           n_jobs=-1, cv=3, scoring='accuracy', verbose=2)\n",
    "        \n",
    "        knnc_search.fit(self.X_train, self.y_train)\n",
    "        #print(knnc_search.best_params_)\n",
    "        #print(knnc_search.best_score_)\n",
    "        n_neighbors = knnc_search.best_params_['n_neighbors']\n",
    "        weights = knnc_search.best_params_['weights']\n",
    "        metric = knnc_search.best_params_['metric']\n",
    "        KNN = KNeighborsClassifier(n_neighbors=n_neighbors, metric=metric, weights=weights).fit(self.X_train,self.y_train)\n",
    "        \n",
    "        predicted_knn = KNN.predict(self.X_test)\n",
    "        accuracy_knn = metrics.accuracy_score(self.y_test, predicted_knn)\n",
    "        print(f\"Accuracy of KNN model {round(accuracy_knn,2)*100}%\", '\\n')\n",
    "        print(\"########################################################################\")\n",
    "        print(classification_report(predicted_knn, self.y_test))\n",
    "        print(\"########################################################################\")\n",
    "        print(\"--- %s seconds ---\" % (time.time() - start_time))\n",
    "        \n",
    "    def DecisionTree(self):\n",
    "        start_time = time.time()\n",
    "        tree = DecisionTreeClassifier()\n",
    "        dt_search = GridSearchCV(tree, param_grid={'criterion' : ['gini', 'entropy'],\n",
    "                                           'max_depth' : [2,3,4,5,6,7,8, 9, 10],\n",
    "                                           'max_leaf_nodes' : [2,3,4,5,6,7,8,9,10, 11]},\n",
    "                           n_jobs=-1, cv=5, scoring='accuracy', verbose=2)\n",
    "        \n",
    "        dt_search.fit(self.X_train, self.y_train)\n",
    "        \n",
    "        criterion = dt_search.best_params_['criterion']\n",
    "        max_depth = dt_search.best_params_['max_depth']\n",
    "        max_leaf_nodes = dt_search.best_params_['max_leaf_nodes']\n",
    "        \n",
    "        dtree = DecisionTreeClassifier(criterion=criterion, \n",
    "                                       max_depth=max_depth, \n",
    "                                       max_leaf_nodes=max_leaf_nodes).fit(self.X_train, self.y_train)\n",
    "        predicted_dt = dtree.predict(self.X_test)\n",
    "        accuracy_dt = metrics.accuracy_score(self.y_test, predicted_dt)\n",
    "        print(f\"criterion: {criterion}, max depth: {max_depth}, max_leaf: {max_leaf_nodes}\")\n",
    "        print(f\"The Accuracy is : {round(accuracy_dt * 100,2)}%\")\n",
    "        print(\"########################################################################\")\n",
    "        print(classification_report(predicted_dt, self.y_test))\n",
    "        print(\"########################################################################\")\n",
    "        \n",
    "        print(\"--- %s seconds ---\" % (time.time() - start_time))\n",
    "    \n",
    "    def RandomForest(self):\n",
    "        start_time = time.time()\n",
    "        RF = RandomForestClassifier(criterion='gini', \n",
    "                                     n_estimators=500,\n",
    "                                     min_samples_split=10,\n",
    "                                     #min_samples_leaf=1,\n",
    "                                     max_features='auto',\n",
    "                                     oob_score=True,\n",
    "                                     random_state=1,\n",
    "                                     n_jobs=-1).fit(self.X_train, self.y_train)\n",
    "        \n",
    "        predicted_rf = RF.predict(self.X_test)\n",
    "        svm_accuracy = accuracy_score(self.y_test, predicted_rf)\n",
    "        print(f\"Accuracy of RF is : {round(svm_accuracy*100,2)}%\", '\\n')\n",
    "        print(\"########################################################################\")\n",
    "        print(classification_report(predicted_rf, self.y_test))\n",
    "        print(\"########################################################################\")\n",
    "        \n",
    "        print(\"--- %s seconds ---\" % (time.time() - start_time))\n",
    "\n",
    "\"\"\"\n",
    "Decision Tree works Well\n",
    "Suppert Vector Machine works well\n",
    "Logistic Regression works well\n",
    "KNN works well\n",
    "Random Forest works well\n",
    "\"\"\""
   ]
  },
  {
   "cell_type": "markdown",
   "metadata": {},
   "source": [
    "#### III .Prediction Without Feature Selection"
   ]
  },
  {
   "cell_type": "markdown",
   "metadata": {},
   "source": [
    "##### II-1. Data Preprocessing"
   ]
  },
  {
   "cell_type": "code",
   "execution_count": null,
   "metadata": {
    "execution": {
     "iopub.execute_input": "2024-04-18T15:37:14.396141Z",
     "iopub.status.busy": "2024-04-18T15:37:14.395897Z",
     "iopub.status.idle": "2024-04-18T15:37:14.464158Z",
     "shell.execute_reply": "2024-04-18T15:37:14.463344Z",
     "shell.execute_reply.started": "2024-04-18T15:37:14.396105Z"
    }
   },
   "outputs": [],
   "source": [
    "df = data.copy()\n",
    "df = df.dropna()"
   ]
  },
  {
   "cell_type": "code",
   "execution_count": null,
   "metadata": {
    "execution": {
     "iopub.execute_input": "2024-04-18T15:37:14.465485Z",
     "iopub.status.busy": "2024-04-18T15:37:14.465256Z",
     "iopub.status.idle": "2024-04-18T15:37:14.473846Z",
     "shell.execute_reply": "2024-04-18T15:37:14.473057Z",
     "shell.execute_reply.started": "2024-04-18T15:37:14.465457Z"
    }
   },
   "outputs": [],
   "source": [
    "X = df.drop(['dt','src','dst','label'], axis=1)\n",
    "y = df.label"
   ]
  },
  {
   "cell_type": "code",
   "execution_count": null,
   "metadata": {
    "execution": {
     "iopub.execute_input": "2024-04-18T15:37:14.478389Z",
     "iopub.status.busy": "2024-04-18T15:37:14.478114Z",
     "iopub.status.idle": "2024-04-18T15:37:14.513386Z",
     "shell.execute_reply": "2024-04-18T15:37:14.512470Z",
     "shell.execute_reply.started": "2024-04-18T15:37:14.478354Z"
    }
   },
   "outputs": [],
   "source": [
    "X = pd.get_dummies(X)"
   ]
  },
  {
   "cell_type": "code",
   "execution_count": null,
   "metadata": {
    "execution": {
     "iopub.execute_input": "2024-04-18T15:37:14.514721Z",
     "iopub.status.busy": "2024-04-18T15:37:14.514528Z",
     "iopub.status.idle": "2024-04-18T15:37:14.580650Z",
     "shell.execute_reply": "2024-04-18T15:37:14.579772Z",
     "shell.execute_reply.started": "2024-04-18T15:37:14.514698Z"
    }
   },
   "outputs": [],
   "source": [
    "M = Model(X)"
   ]
  },
  {
   "cell_type": "code",
   "execution_count": null,
   "metadata": {
    "execution": {
     "iopub.execute_input": "2024-04-18T15:37:14.582379Z",
     "iopub.status.busy": "2024-04-18T15:37:14.582069Z",
     "iopub.status.idle": "2024-04-18T15:37:19.755453Z",
     "shell.execute_reply": "2024-04-18T15:37:19.754451Z",
     "shell.execute_reply.started": "2024-04-18T15:37:14.582338Z"
    }
   },
   "outputs": [],
   "source": [
    "## Logistic Regression(Without FS)\n",
    "M.LogisticRegression()"
   ]
  },
  {
   "cell_type": "code",
   "execution_count": null,
   "metadata": {
    "execution": {
     "iopub.execute_input": "2024-04-18T15:37:19.757877Z",
     "iopub.status.busy": "2024-04-18T15:37:19.757025Z",
     "iopub.status.idle": "2024-04-18T15:50:51.445057Z",
     "shell.execute_reply": "2024-04-18T15:50:51.444243Z",
     "shell.execute_reply.started": "2024-04-18T15:37:19.757820Z"
    }
   },
   "outputs": [],
   "source": [
    "## Support Vector Machine(Without FS)\n",
    "M.SupportVectorMachine()"
   ]
  },
  {
   "cell_type": "code",
   "execution_count": null,
   "metadata": {
    "execution": {
     "iopub.execute_input": "2024-04-18T15:50:51.446431Z",
     "iopub.status.busy": "2024-04-18T15:50:51.446202Z",
     "iopub.status.idle": "2024-04-18T15:52:07.538158Z",
     "shell.execute_reply": "2024-04-18T15:52:07.537058Z",
     "shell.execute_reply.started": "2024-04-18T15:50:51.446403Z"
    }
   },
   "outputs": [],
   "source": [
    "## Decision Tree(Without FS)\n",
    "M.DecisionTree()"
   ]
  },
  {
   "cell_type": "code",
   "execution_count": null,
   "metadata": {
    "execution": {
     "iopub.execute_input": "2024-04-18T15:52:07.540228Z",
     "iopub.status.busy": "2024-04-18T15:52:07.539884Z",
     "iopub.status.idle": "2024-04-18T15:52:25.754931Z",
     "shell.execute_reply": "2024-04-18T15:52:25.754147Z",
     "shell.execute_reply.started": "2024-04-18T15:52:07.540186Z"
    }
   },
   "outputs": [],
   "source": [
    "## Random Forest Classification(Without FS)\n",
    "M.RandomForest()"
   ]
  },
  {
   "cell_type": "code",
   "execution_count": null,
   "metadata": {
    "execution": {
     "iopub.execute_input": "2024-04-18T15:52:25.756246Z",
     "iopub.status.busy": "2024-04-18T15:52:25.756027Z",
     "iopub.status.idle": "2024-04-18T15:55:04.313688Z",
     "shell.execute_reply": "2024-04-18T15:55:04.312849Z",
     "shell.execute_reply.started": "2024-04-18T15:52:25.756219Z"
    }
   },
   "outputs": [],
   "source": [
    "M.KNearetsNeighbor()"
   ]
  },
  {
   "cell_type": "markdown",
   "metadata": {},
   "source": [
    "#### IV .Prediction With Feature Selection"
   ]
  },
  {
   "cell_type": "code",
   "execution_count": null,
   "metadata": {
    "execution": {
     "iopub.execute_input": "2024-04-18T15:55:04.315169Z",
     "iopub.status.busy": "2024-04-18T15:55:04.314904Z",
     "iopub.status.idle": "2024-04-18T15:55:04.324444Z",
     "shell.execute_reply": "2024-04-18T15:55:04.323582Z",
     "shell.execute_reply.started": "2024-04-18T15:55:04.315137Z"
    }
   },
   "outputs": [],
   "source": [
    "df1 = data.copy()"
   ]
  },
  {
   "cell_type": "code",
   "execution_count": null,
   "metadata": {
    "execution": {
     "iopub.execute_input": "2024-04-18T15:55:04.325967Z",
     "iopub.status.busy": "2024-04-18T15:55:04.325712Z",
     "iopub.status.idle": "2024-04-18T15:55:04.384945Z",
     "shell.execute_reply": "2024-04-18T15:55:04.384212Z",
     "shell.execute_reply.started": "2024-04-18T15:55:04.325922Z"
    }
   },
   "outputs": [],
   "source": [
    "df1 = df1.dropna()"
   ]
  },
  {
   "cell_type": "code",
   "execution_count": null,
   "metadata": {
    "execution": {
     "iopub.execute_input": "2024-04-18T15:55:04.386868Z",
     "iopub.status.busy": "2024-04-18T15:55:04.386136Z",
     "iopub.status.idle": "2024-04-18T15:55:04.392651Z",
     "shell.execute_reply": "2024-04-18T15:55:04.391934Z",
     "shell.execute_reply.started": "2024-04-18T15:55:04.386827Z"
    }
   },
   "outputs": [],
   "source": [
    "df1.columns"
   ]
  },
  {
   "cell_type": "code",
   "execution_count": null,
   "metadata": {
    "execution": {
     "iopub.execute_input": "2024-04-18T15:55:04.393973Z",
     "iopub.status.busy": "2024-04-18T15:55:04.393759Z",
     "iopub.status.idle": "2024-04-18T15:55:04.447105Z",
     "shell.execute_reply": "2024-04-18T15:55:04.446366Z",
     "shell.execute_reply.started": "2024-04-18T15:55:04.393948Z"
    }
   },
   "outputs": [],
   "source": [
    "df1.info()"
   ]
  },
  {
   "cell_type": "markdown",
   "metadata": {},
   "source": [
    "##### https://www.mdpi.com/2079-9292/10/11/1227/pdf\n",
    "##### So, I will use the Feature Selection result of this paper"
   ]
  },
  {
   "cell_type": "code",
   "execution_count": null,
   "metadata": {
    "execution": {
     "iopub.execute_input": "2024-04-18T15:55:04.448785Z",
     "iopub.status.busy": "2024-04-18T15:55:04.448214Z",
     "iopub.status.idle": "2024-04-18T15:55:04.454733Z",
     "shell.execute_reply": "2024-04-18T15:55:04.453886Z",
     "shell.execute_reply.started": "2024-04-18T15:55:04.448740Z"
    }
   },
   "outputs": [],
   "source": [
    "important_features = [\n",
    "    'src',\n",
    "    'pktcount',\n",
    "    'dst',\n",
    "    'byteperflow',\n",
    "    'pktperflow',\n",
    "    'pktrate',\n",
    "    'tot_kbps',\n",
    "    'rx_kbps',\n",
    "    'flows',\n",
    "    'bytecount',\n",
    "    'dt',\n",
    "    'Protocol',\n",
    "    'dur',\n",
    "    'tot_dur'\n",
    "                      \n",
    "                     ]\n",
    "\n",
    "\n",
    "weights = [\n",
    "    17.87,\n",
    "    15.16,\n",
    "    13.64,\n",
    "    12.97,\n",
    "    11.35,\n",
    "    11.35,\n",
    "    9.68,\n",
    "    9.66,\n",
    "    8.95,\n",
    "    4.92,\n",
    "    2.33,\n",
    "    1.31,\n",
    "    1.11,\n",
    "    1.11\n",
    "]"
   ]
  },
  {
   "cell_type": "code",
   "execution_count": null,
   "metadata": {
    "execution": {
     "iopub.execute_input": "2024-04-18T15:55:04.455951Z",
     "iopub.status.busy": "2024-04-18T15:55:04.455734Z",
     "iopub.status.idle": "2024-04-18T15:55:04.471586Z",
     "shell.execute_reply": "2024-04-18T15:55:04.470838Z",
     "shell.execute_reply.started": "2024-04-18T15:55:04.455917Z"
    }
   },
   "outputs": [],
   "source": [
    "weighted_features = pd.DataFrame({'features':important_features,\n",
    "                                 'weights':weights})\n",
    "weighted_features"
   ]
  },
  {
   "cell_type": "code",
   "execution_count": null,
   "metadata": {
    "execution": {
     "iopub.execute_input": "2024-04-18T15:55:04.472916Z",
     "iopub.status.busy": "2024-04-18T15:55:04.472661Z",
     "iopub.status.idle": "2024-04-18T15:55:04.491770Z",
     "shell.execute_reply": "2024-04-18T15:55:04.491163Z",
     "shell.execute_reply.started": "2024-04-18T15:55:04.472888Z"
    }
   },
   "outputs": [],
   "source": [
    "### But we dont need src, dst, dt, So, we will drop them\n",
    "X = df1[important_features]\n",
    "y = df1.label\n",
    "\n",
    "X = X.drop(['src', 'dst', 'dt'], axis=1)"
   ]
  },
  {
   "cell_type": "code",
   "execution_count": null,
   "metadata": {
    "execution": {
     "iopub.execute_input": "2024-04-18T15:55:04.493616Z",
     "iopub.status.busy": "2024-04-18T15:55:04.492976Z",
     "iopub.status.idle": "2024-04-18T15:55:04.510887Z",
     "shell.execute_reply": "2024-04-18T15:55:04.510042Z",
     "shell.execute_reply.started": "2024-04-18T15:55:04.493568Z"
    }
   },
   "outputs": [],
   "source": [
    "X.head()"
   ]
  },
  {
   "cell_type": "code",
   "execution_count": null,
   "metadata": {
    "execution": {
     "iopub.execute_input": "2024-04-18T15:55:04.512438Z",
     "iopub.status.busy": "2024-04-18T15:55:04.512150Z",
     "iopub.status.idle": "2024-04-18T15:55:04.563523Z",
     "shell.execute_reply": "2024-04-18T15:55:04.562808Z",
     "shell.execute_reply.started": "2024-04-18T15:55:04.512399Z"
    }
   },
   "outputs": [],
   "source": [
    "abs(X.corr())"
   ]
  },
  {
   "cell_type": "code",
   "execution_count": null,
   "metadata": {
    "execution": {
     "iopub.execute_input": "2024-04-18T15:55:04.565073Z",
     "iopub.status.busy": "2024-04-18T15:55:04.564831Z",
     "iopub.status.idle": "2024-04-18T15:55:05.448911Z",
     "shell.execute_reply": "2024-04-18T15:55:05.448108Z",
     "shell.execute_reply.started": "2024-04-18T15:55:04.565044Z"
    }
   },
   "outputs": [],
   "source": [
    "fig, ax = plt.subplots(figsize=(10,7)) \n",
    "sns.heatmap(abs(X.corr()), annot=True)"
   ]
  },
  {
   "cell_type": "code",
   "execution_count": null,
   "metadata": {
    "execution": {
     "iopub.execute_input": "2024-04-18T15:55:05.450398Z",
     "iopub.status.busy": "2024-04-18T15:55:05.450144Z",
     "iopub.status.idle": "2024-04-18T15:55:05.454434Z",
     "shell.execute_reply": "2024-04-18T15:55:05.453495Z",
     "shell.execute_reply.started": "2024-04-18T15:55:05.450366Z"
    }
   },
   "outputs": [],
   "source": [
    "### There some duplicated features and high correlated features"
   ]
  },
  {
   "cell_type": "code",
   "execution_count": null,
   "metadata": {
    "execution": {
     "iopub.execute_input": "2024-04-18T15:55:05.456461Z",
     "iopub.status.busy": "2024-04-18T15:55:05.456018Z",
     "iopub.status.idle": "2024-04-18T15:55:05.468082Z",
     "shell.execute_reply": "2024-04-18T15:55:05.467372Z",
     "shell.execute_reply.started": "2024-04-18T15:55:05.456422Z"
    }
   },
   "outputs": [],
   "source": [
    "## \"dur\" and \"tot_dur\"\n",
    "## \"pktperflow\" and \"pktrate\"\n",
    "\n",
    "X = X.drop(['dur', \"pktrate\", \"pktperflow\"], axis=1)"
   ]
  },
  {
   "cell_type": "code",
   "execution_count": null,
   "metadata": {
    "execution": {
     "iopub.execute_input": "2024-04-18T15:55:05.469206Z",
     "iopub.status.busy": "2024-04-18T15:55:05.468977Z",
     "iopub.status.idle": "2024-04-18T15:55:05.480144Z",
     "shell.execute_reply": "2024-04-18T15:55:05.479343Z",
     "shell.execute_reply.started": "2024-04-18T15:55:05.469168Z"
    }
   },
   "outputs": [],
   "source": [
    "X.columns"
   ]
  },
  {
   "cell_type": "code",
   "execution_count": null,
   "metadata": {
    "execution": {
     "iopub.execute_input": "2024-04-18T15:55:05.481474Z",
     "iopub.status.busy": "2024-04-18T15:55:05.481216Z",
     "iopub.status.idle": "2024-04-18T15:55:06.058300Z",
     "shell.execute_reply": "2024-04-18T15:55:06.057569Z",
     "shell.execute_reply.started": "2024-04-18T15:55:05.481439Z"
    }
   },
   "outputs": [],
   "source": [
    "fig, ax = plt.subplots(figsize=(10,7)) \n",
    "sns.heatmap(abs(X.corr()), annot=True)"
   ]
  },
  {
   "cell_type": "code",
   "execution_count": null,
   "metadata": {
    "execution": {
     "iopub.execute_input": "2024-04-18T15:55:06.059590Z",
     "iopub.status.busy": "2024-04-18T15:55:06.059385Z",
     "iopub.status.idle": "2024-04-18T15:55:06.083247Z",
     "shell.execute_reply": "2024-04-18T15:55:06.082519Z",
     "shell.execute_reply.started": "2024-04-18T15:55:06.059563Z"
    }
   },
   "outputs": [],
   "source": [
    "X = pd.get_dummies(X)"
   ]
  },
  {
   "cell_type": "code",
   "execution_count": null,
   "metadata": {
    "execution": {
     "iopub.execute_input": "2024-04-18T15:55:06.085012Z",
     "iopub.status.busy": "2024-04-18T15:55:06.084483Z",
     "iopub.status.idle": "2024-04-18T15:55:06.125513Z",
     "shell.execute_reply": "2024-04-18T15:55:06.124891Z",
     "shell.execute_reply.started": "2024-04-18T15:55:06.084958Z"
    }
   },
   "outputs": [],
   "source": [
    "M = Model(X)"
   ]
  },
  {
   "cell_type": "code",
   "execution_count": null,
   "metadata": {
    "execution": {
     "iopub.execute_input": "2024-04-18T15:55:06.127035Z",
     "iopub.status.busy": "2024-04-18T15:55:06.126720Z",
     "iopub.status.idle": "2024-04-18T15:55:09.852140Z",
     "shell.execute_reply": "2024-04-18T15:55:09.851223Z",
     "shell.execute_reply.started": "2024-04-18T15:55:06.126983Z"
    }
   },
   "outputs": [],
   "source": [
    "## Logistic Regression(With FS)\n",
    "M.LogisticRegression()"
   ]
  },
  {
   "cell_type": "code",
   "execution_count": null,
   "metadata": {
    "execution": {
     "iopub.execute_input": "2024-04-18T15:55:09.862187Z",
     "iopub.status.busy": "2024-04-18T15:55:09.853864Z",
     "iopub.status.idle": "2024-04-18T16:05:23.977642Z",
     "shell.execute_reply": "2024-04-18T16:05:23.976832Z",
     "shell.execute_reply.started": "2024-04-18T15:55:09.862117Z"
    }
   },
   "outputs": [],
   "source": [
    "## Support Vector Machine\n",
    "M.SupportVectorMachine()"
   ]
  },
  {
   "cell_type": "code",
   "execution_count": null,
   "metadata": {
    "execution": {
     "iopub.execute_input": "2024-04-18T16:05:23.979807Z",
     "iopub.status.busy": "2024-04-18T16:05:23.979134Z",
     "iopub.status.idle": "2024-04-18T16:05:39.947620Z",
     "shell.execute_reply": "2024-04-18T16:05:39.946770Z",
     "shell.execute_reply.started": "2024-04-18T16:05:23.979754Z"
    }
   },
   "outputs": [],
   "source": [
    "M.RandomForest()"
   ]
  },
  {
   "cell_type": "code",
   "execution_count": null,
   "metadata": {
    "execution": {
     "iopub.execute_input": "2024-04-18T16:05:39.949010Z",
     "iopub.status.busy": "2024-04-18T16:05:39.948774Z",
     "iopub.status.idle": "2024-04-18T16:06:16.912013Z",
     "shell.execute_reply": "2024-04-18T16:06:16.911178Z",
     "shell.execute_reply.started": "2024-04-18T16:05:39.948964Z"
    }
   },
   "outputs": [],
   "source": [
    "M.DecisionTree()"
   ]
  }
 ],
 "metadata": {
  "celltoolbar": "Raw Cell Format",
  "kaggle": {
   "accelerator": "nvidiaTeslaT4",
   "dataSources": [
    {
     "datasetId": 1795814,
     "sourceId": 2929393,
     "sourceType": "datasetVersion"
    }
   ],
   "dockerImageVersionId": 30152,
   "isGpuEnabled": true,
   "isInternetEnabled": false,
   "language": "python",
   "sourceType": "notebook"
  },
  "kernelspec": {
   "display_name": "Python 3 (ipykernel)",
   "language": "python",
   "name": "python3"
  },
  "language_info": {
   "codemirror_mode": {
    "name": "ipython",
    "version": 3
   },
   "file_extension": ".py",
   "mimetype": "text/x-python",
   "name": "python",
   "nbconvert_exporter": "python",
   "pygments_lexer": "ipython3",
   "version": "3.10.9"
  }
 },
 "nbformat": 4,
 "nbformat_minor": 4
}
